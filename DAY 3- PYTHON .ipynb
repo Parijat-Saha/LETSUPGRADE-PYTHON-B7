{
 "cells": [
  {
   "cell_type": "markdown",
   "metadata": {},
   "source": [
    "# YOU ALL ARE PILOTS, YOU HAVE TO LAND A PLANE, THE ALTITUDE REQUIRED FOR LANDING A PLANE IS 1000ft \n",
    "# IF ITS LESS THAN THAT TELL THE PILOT TO LAND THE PLANE, OR IT IS MORE THAN THAT BUT LESS THAN 5000ft\n",
    "# ASK THE PILOT TO COME DOWN TO 1000ft. ELSE IF ITS MORE THAN 5000ft ASK THE PILOT TO \"GO AROUND AND TRY LATER\" ."
   ]
  },
  {
   "cell_type": "code",
   "execution_count": 2,
   "metadata": {},
   "outputs": [
    {
     "name": "stdout",
     "output_type": "stream",
     "text": [
      "ENTER THE ALTITUDE OF YOUR PLANE FROM THE GROUND1245\n",
      "LOWER THE PLANE TO ALTITUDE TO 1000ft\n"
     ]
    }
   ],
   "source": [
    "Altreq= 1000\n",
    "Youralt= input(\"ENTER THE ALTITUDE OF YOUR PLANE FROM THE GROUND\")\n",
    "Youralt= int(Youralt)\n",
    "if Youralt< Altreq:\n",
    "    print(\"LAND THE PLANE\")\n",
    "elif Youralt>Altreq and Youralt<5000:\n",
    "    print(\"LOWER THE PLANE TO ALTITUDE TO 1000ft\")\n",
    "elif Youralt>5000:\n",
    "    print(\"GO AROUND AND TRY LATER\")\n",
    "else:\n",
    "    print(\"END\")"
   ]
  },
  {
   "cell_type": "markdown",
   "metadata": {},
   "source": [
    "# USING FOR LOOP PRINT ALL THE PRIME NUMBERS FROM 1-200 USING FOR LOOP AND RANGE FUNCTION"
   ]
  },
  {
   "cell_type": "code",
   "execution_count": 62,
   "metadata": {},
   "outputs": [
    {
     "name": "stdout",
     "output_type": "stream",
     "text": [
      "2\n",
      "3\n",
      "5\n",
      "7\n",
      "11\n",
      "13\n",
      "17\n",
      "19\n",
      "23\n",
      "29\n",
      "31\n",
      "37\n",
      "41\n",
      "43\n",
      "47\n",
      "53\n",
      "59\n",
      "61\n",
      "67\n",
      "71\n",
      "73\n",
      "79\n",
      "83\n",
      "89\n",
      "97\n",
      "101\n",
      "103\n",
      "107\n",
      "109\n",
      "113\n",
      "127\n",
      "131\n",
      "137\n",
      "139\n",
      "149\n",
      "151\n",
      "157\n",
      "163\n",
      "167\n",
      "173\n",
      "179\n",
      "181\n",
      "191\n",
      "193\n",
      "197\n",
      "199\n"
     ]
    }
   ],
   "source": [
    "\n",
    "\n",
    "for i in range(1,201):\n",
    "    if i>1:                         # 1 is not prime number\n",
    "        for num in range(2,i):\n",
    "            if i%num== 0:\n",
    "                break\n",
    "        else:\n",
    "                print(i)"
   ]
  },
  {
   "cell_type": "code",
   "execution_count": null,
   "metadata": {},
   "outputs": [],
   "source": []
  },
  {
   "cell_type": "code",
   "execution_count": null,
   "metadata": {},
   "outputs": [],
   "source": []
  }
 ],
 "metadata": {
  "kernelspec": {
   "display_name": "Python 3",
   "language": "python",
   "name": "python3"
  },
  "language_info": {
   "codemirror_mode": {
    "name": "ipython",
    "version": 3
   },
   "file_extension": ".py",
   "mimetype": "text/x-python",
   "name": "python",
   "nbconvert_exporter": "python",
   "pygments_lexer": "ipython3",
   "version": "3.8.3"
  }
 },
 "nbformat": 4,
 "nbformat_minor": 4
}
